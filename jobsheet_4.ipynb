{
  "nbformat": 4,
  "nbformat_minor": 0,
  "metadata": {
    "colab": {
      "provenance": [],
      "authorship_tag": "ABX9TyNy925Ui0JSzJsixB1vf9IS",
      "include_colab_link": true
    },
    "kernelspec": {
      "name": "python3",
      "display_name": "Python 3"
    },
    "language_info": {
      "name": "python"
    }
  },
  "cells": [
    {
      "cell_type": "markdown",
      "metadata": {
        "id": "view-in-github",
        "colab_type": "text"
      },
      "source": [
        "<a href=\"https://colab.research.google.com/github/RizkyFadhila123/2025_PBO_TI1A/blob/main/jobsheet_4.ipynb\" target=\"_parent\"><img src=\"https://colab.research.google.com/assets/colab-badge.svg\" alt=\"Open In Colab\"/></a>"
      ]
    },
    {
      "cell_type": "markdown",
      "source": [
        "## Praktikum 01: Inheritance Dasar"
      ],
      "metadata": {
        "id": "HzP7vMHUaSP1"
      }
    },
    {
      "cell_type": "code",
      "execution_count": null,
      "metadata": {
        "colab": {
          "base_uri": "https://localhost:8080/"
        },
        "id": "ZgDIy2yzZfvR",
        "outputId": "eec19c06-6ac6-4f65-d40e-460804e93b0b"
      },
      "outputs": [
        {
          "output_type": "stream",
          "name": "stdout",
          "text": [
            "ini adalah mobil Tesla Model S berwarna Merah.\n",
            "Mesin kendaraan Tesla Model S dinyalakan.\n",
            "merk mobil: Tesla Model S\n"
          ]
        }
      ],
      "source": [
        "# Kelas Induk\n",
        "class Kendaraan:\n",
        "    def __init__(self, merk):\n",
        "        self.merk = merk\n",
        "\n",
        "    def mulai_mesin(self):\n",
        "        print (f\"Mesin kendaraan {self.merk} dinyalakan.\")\n",
        "\n",
        "#Kelas Anak (mewarisi dari Kendaraan)\n",
        "class Mobil(Kendaraan):\n",
        "    def __init__(self, merk, warna):\n",
        "        # Memanggil __init__ kelas induk (akan dibahas di Praktikum 2)\n",
        "        self.merk = merk\n",
        "        self.warna = warna\n",
        "\n",
        "    def info_mobil (self):\n",
        "        print (f\"ini adalah mobil {self.merk} berwarna {self.warna}.\")\n",
        "\n",
        "if __name__ == \"__main__\":\n",
        "    mobil_tesla = Mobil(\"Tesla Model S\", \"Merah\")\n",
        "\n",
        "    mobil_tesla.info_mobil()\n",
        "\n",
        "    mobil_tesla.mulai_mesin()\n",
        "\n",
        "    print(f\"merk mobil: {mobil_tesla.merk}\")"
      ]
    },
    {
      "cell_type": "markdown",
      "source": [
        "Praktikum 02: Menggunakan super() dalam konstruktor"
      ],
      "metadata": {
        "id": "mge4bquWcgPQ"
      }
    },
    {
      "cell_type": "code",
      "source": [
        "class Person:\n",
        "    def __init__(self, nama, usia):\n",
        "        print(f\"memanggil __init__ Person untuk '{nama}')\")\n",
        "        self.nama = nama\n",
        "        self.usia = usia\n",
        "\n",
        "    def perkenalan_diri (self):\n",
        "            print(f\"Halo, nama saya {self.nama}, usia saya {self.usia} tahun.\")\n",
        "\n",
        "class Student (Person):\n",
        "    def __init__(self, nama, usia, student_id, jurusan):\n",
        "        print(f\"(memanggil __init__ Student untuk '{nama}')\")\n",
        "\n",
        "        super().__init__(nama, usia)\n",
        "\n",
        "        self.student_id = student_id\n",
        "        self.jurusan = jurusan\n",
        "        print(f\"(Inisialisasi atribut Student selesai untuk '{nama}')\")\n",
        "\n",
        "    def info_akademik(self):\n",
        "        print(f\"ID Mahasiswa: {self.student_id}\")\n",
        "        print(f\"Jurusan: {self.jurusan}\")\n",
        "\n",
        "    def perkenalan_diri(self):\n",
        "        super().perkenalan_diri()\n",
        "        print (f\"Saya adalah mahasiswa dengan ID {self.student_id}, jurusan {self.jurusan}.\")\n",
        "\n",
        "if __name__ ==\"__main__\":\n",
        "     dosen = Person(\"pak Anton\", 45)\n",
        "     print(\"-\" * 20)\n",
        "     dosen.perkenalan_diri()\n",
        "     print(\"\\n\" + \"=\" * 30 + \"\\n\")\n",
        "\n",
        "     mahasiswa = Student (\"Dewi\", 20, \"MHS001\", \"Teknik Komputer\")\n",
        "     print(\"-\" * 20)\n",
        "     mahasiswa.perkenalan_diri()\n",
        "     print(\"-\" * 20)\n",
        "     mahasiswa.info_akademik()\n",
        "\n",
        "     print(f\"\\nUsia mahasiswa {mahasiswa.nama}: {mahasiswa.usia}\")"
      ],
      "metadata": {
        "colab": {
          "base_uri": "https://localhost:8080/"
        },
        "id": "T7tQnuRpctps",
        "outputId": "6c5a7688-ad39-4689-9bd1-0a9b6e10a0c3"
      },
      "execution_count": null,
      "outputs": [
        {
          "output_type": "stream",
          "name": "stdout",
          "text": [
            "memanggil __init__ Person untuk 'pak Anton')\n",
            "--------------------\n",
            "Halo, nama saya pak Anton, usia saya 45 tahun.\n",
            "\n",
            "==============================\n",
            "\n",
            "(memanggil __init__ Student untuk 'Dewi')\n",
            "memanggil __init__ Person untuk 'Dewi')\n",
            "(Inisialisasi atribut Student selesai untuk 'Dewi')\n",
            "--------------------\n",
            "Halo, nama saya Dewi, usia saya 20 tahun.\n",
            "Saya adalah mahasiswa dengan ID MHS001, jurusan Teknik Komputer.\n",
            "--------------------\n",
            "ID Mahasiswa: MHS001\n",
            "Jurusan: Teknik Komputer\n",
            "\n",
            "Usia mahasiswa Dewi: 20\n"
          ]
        }
      ]
    },
    {
      "cell_type": "markdown",
      "source": [
        "## Praktikum 03: method Overriding dan super()"
      ],
      "metadata": {
        "id": "JzsyBBi3jk5b"
      }
    },
    {
      "cell_type": "code",
      "source": [
        "class Hewan:\n",
        "    def __init__(self, nama):\n",
        "        self.nama = nama\n",
        "\n",
        "    def bersuara(self):\n",
        "        print(f\"{self.nama} mengeluarkan suara generik.\")\n",
        "\n",
        "    def tampilkan_info(self):\n",
        "        print(f\"Ini adalah hewan bernama {self.nama}.\")\n",
        "\n",
        "class Kucing(Hewan):\n",
        "      def __init__(self, nama, ras):\n",
        "          super().__init__(nama)\n",
        "          self.ras = ras\n",
        "\n",
        "      def bersuara(self):\n",
        "          print(f\"{self.nama} (Kucing) mengeong: Meow!\")\n",
        "\n",
        "      def tampilkan_info(self):\n",
        "          super().tampilkan_info()\n",
        "          print (f\"ini adalah kucing ras {self.ras}.\")\n",
        "\n",
        "if __name__ == \"__main__\":\n",
        "     hewan_umum = Hewan(\"Makhluk\")\n",
        "     kucing_persia = Kucing(\"Puspus\", \"Persia\")\n",
        "\n",
        "     print(\"Info Hewan Umum:\")\n",
        "     hewan_umum.tampilkan_info()\n",
        "     hewan_umum.bersuara()\n",
        "     print(\"-\" * 20)\n",
        "\n",
        "     print(\"Info Kucing Persia:\")\n",
        "     kucing_persia.tampilkan_info()\n",
        "     kucing_persia.bersuara()"
      ],
      "metadata": {
        "colab": {
          "base_uri": "https://localhost:8080/"
        },
        "id": "R3ilTKPAjr68",
        "outputId": "a39bebc7-846b-4264-a359-b6f44c70d245"
      },
      "execution_count": null,
      "outputs": [
        {
          "output_type": "stream",
          "name": "stdout",
          "text": [
            "Info Hewan Umum:\n",
            "Ini adalah hewan bernama Makhluk.\n",
            "Makhluk mengeluarkan suara generik.\n",
            "--------------------\n",
            "Info Kucing Persia:\n",
            "Ini adalah hewan bernama Puspus.\n",
            "ini adalah kucing ras Persia.\n",
            "Puspus (Kucing) mengeong: Meow!\n"
          ]
        }
      ]
    },
    {
      "cell_type": "markdown",
      "source": [
        "## Praktikum 04: Multi-level Inheritance (Pewarisan Bertingkat)"
      ],
      "metadata": {
        "id": "diQKJlMtoElo"
      }
    },
    {
      "source": [
        "class Organisme:\n",
        "    def __init__(self, nama):\n",
        "        self.nama = nama\n",
        "        print(f\"Organisme '{self.nama}' diciptakan.\")\n",
        "\n",
        "    def bernapas(self):\n",
        "        print(f\"{self.nama} sedang bernapas.\")\n",
        "\n",
        "class Hewan(Organisme):\n",
        "     def __init__(self, nama, jenis_makanan):\n",
        "        super().__init__(nama)\n",
        "        self.jenis_makanan = jenis_makanan\n",
        "        print(f\"Hewan '{self.nama}' adalah {self.jenis_makanan}.\")\n",
        "\n",
        "     def bergerak (self):\n",
        "        print(f\"{self.nama} sedang bergerak.\")\n",
        "\n",
        "class Mamalia(Hewan):\n",
        "      def __init__(self, nama, jenis_makanan, jumlah_kaki):\n",
        "        super().__init__(nama, jenis_makanan)\n",
        "        self.jumlah_kaki = jumlah_kaki\n",
        "        print(f\"Mamalia '{self.nama}' memiliki {self.jumlah_kaki} kaki.\")\n",
        "\n",
        "      def menyusui(self):\n",
        "        print(f\"{self.nama} sedang menyusui.\")\n",
        "\n",
        "if __name__ == \"__main__\":\n",
        "    kucing = Mamalia (\"Kucing Persia\", \"Karnivora\", 4)\n",
        "    print(\"-\" * 20)\n",
        "\n",
        "    kucing.menyusui()\n",
        "\n",
        "    kucing.bergerak()\n",
        "\n",
        "    kucing.bernapas()\n",
        "    print(f\"Nama organisme: {kucing.nama}\")"
      ],
      "cell_type": "code",
      "metadata": {
        "colab": {
          "base_uri": "https://localhost:8080/"
        },
        "id": "hw7a-PUGiQiq",
        "outputId": "b346ddc6-0af1-4272-86ee-e3ce5d707161"
      },
      "execution_count": null,
      "outputs": [
        {
          "output_type": "stream",
          "name": "stdout",
          "text": [
            "Organisme 'Kucing Persia' diciptakan.\n",
            "Hewan 'Kucing Persia' adalah Karnivora.\n",
            "Mamalia 'Kucing Persia' memiliki 4 kaki.\n",
            "--------------------\n",
            "Kucing Persia sedang menyusui.\n",
            "Kucing Persia sedang bergerak.\n",
            "Kucing Persia sedang bernapas.\n",
            "Nama organisme: Kucing Persia\n"
          ]
        }
      ]
    },
    {
      "cell_type": "markdown",
      "source": [
        "## Praktikum 05: Hierarchical Inheritance"
      ],
      "metadata": {
        "id": "RGCeBnVEhWdT"
      }
    },
    {
      "cell_type": "code",
      "source": [
        "def format_rupiah(angka):\n",
        "    return f\"Rp {angka:,.0f}\".replace(\",\", \".\")\n",
        "\n",
        "class Pegawai:\n",
        "    def __init__(self, nama, id_pegawai, gaji_pokok):\n",
        "        self.nama = nama\n",
        "        self.id_pegawai = id_pegawai\n",
        "        self.gaji_pokok = gaji_pokok\n",
        "\n",
        "    def hitung_gaji(self):\n",
        "        return self.gaji_pokok\n",
        "\n",
        "    def tampilkan_info(self):\n",
        "        print(f\"ID: {self.id_pegawai}, Nama: {self.nama}\")\n",
        "        print(f\"Gaji Pokok: {format_rupiah(self.gaji_pokok)}\")\n",
        "\n",
        "class Manager(Pegawai):\n",
        "    def __init__(self, nama, id_pegawai, gaji_pokok, tunjangan_jabatan):\n",
        "        super().__init__(nama, id_pegawai, gaji_pokok)\n",
        "        self.tunjangan_jabatan = tunjangan_jabatan\n",
        "\n",
        "    def hitung_gaji(self):\n",
        "        return super().hitung_gaji() + self.tunjangan_jabatan\n",
        "\n",
        "    def tampilkan_info(self):\n",
        "        print(\"--- Info Manager ---\")\n",
        "        super().tampilkan_info()\n",
        "        print(f\"Tunjangan Jabatan: {format_rupiah(self.tunjangan_jabatan)}\")\n",
        "        print(f\"Total Gaji: {format_rupiah(self.hitung_gaji())}\")\n",
        "\n",
        "class StafTeknis(Pegawai):\n",
        "    def __init__(self, nama, id_pegawai, gaji_pokok, keahlian, bonus_keahlian):\n",
        "        super().__init__(nama, id_pegawai, gaji_pokok)\n",
        "        self.keahlian = keahlian\n",
        "        self.bonus_keahlian = bonus_keahlian\n",
        "\n",
        "    def hitung_gaji(self):\n",
        "        return super().hitung_gaji() + self.bonus_keahlian\n",
        "\n",
        "    def tampilkan_info(self):\n",
        "        print(\"--- Info Staf Teknis ---\")\n",
        "        super().tampilkan_info()\n",
        "        print(f\"Keahlian: {self.keahlian}\")\n",
        "        print(f\"Bonus Keahlian: {format_rupiah(self.bonus_keahlian)}\")\n",
        "        print(f\"Total Gaji: {format_rupiah(self.hitung_gaji())}\")\n",
        "\n",
        "if __name__ == \"__main__\":\n",
        "    manager1 = Manager(\"Budi Santoso\", \"MM01\", 10000000, 5000000)\n",
        "    staf1 = StafTeknis(\"Citra Lestari\", \"S001\", 7000000, \"Python Programming\", 1500000)\n",
        "    pegawai_baru = Pegawai(\"Rian\", \"P005\", 5000000)\n",
        "\n",
        "    print(\"Menampilkan Informasi Pegawai:\")\n",
        "    manager1.tampilkan_info()\n",
        "    print(\"-\" * 30)\n",
        "    staf1.tampilkan_info()\n",
        "    print(\"-\" * 30)\n",
        "    print(\"--- Info Pegawai Baru ---\")\n",
        "    pegawai_baru.tampilkan_info()\n",
        "    print(f\"Total Gaji: {format_rupiah(pegawai_baru.hitung_gaji())}\")\n",
        "    print(\"-\" * 30)"
      ],
      "metadata": {
        "id": "d8BXtTMWeBax",
        "outputId": "21c0c87a-3c37-4186-ef64-af212304ea96",
        "colab": {
          "base_uri": "https://localhost:8080/"
        }
      },
      "execution_count": 9,
      "outputs": [
        {
          "output_type": "stream",
          "name": "stdout",
          "text": [
            "Menampilkan Informasi Pegawai:\n",
            "--- Info Manager ---\n",
            "ID: MM01, Nama: Budi Santoso\n",
            "Gaji Pokok: Rp 10.000.000\n",
            "Tunjangan Jabatan: Rp 5.000.000\n",
            "Total Gaji: Rp 15.000.000\n",
            "------------------------------\n",
            "--- Info Staf Teknis ---\n",
            "ID: S001, Nama: Citra Lestari\n",
            "Gaji Pokok: Rp 7.000.000\n",
            "Keahlian: Python Programming\n",
            "Bonus Keahlian: Rp 1.500.000\n",
            "Total Gaji: Rp 8.500.000\n",
            "------------------------------\n",
            "--- Info Pegawai Baru ---\n",
            "ID: P005, Nama: Rian\n",
            "Gaji Pokok: Rp 5.000.000\n",
            "Total Gaji: Rp 5.000.000\n",
            "------------------------------\n"
          ]
        }
      ]
    },
    {
      "cell_type": "markdown",
      "source": [
        "## Praktikum 06: Memeriksa Tipe Instance dengan instance()"
      ],
      "metadata": {
        "id": "JZ3j4v801rYG"
      }
    },
    {
      "cell_type": "code",
      "source": [
        "class BentukGeometri:\n",
        "    def __init__(self, nama_bentuk):\n",
        "        self.nama = nama_bentuk\n",
        "\n",
        "    def tampilkan_nama(self):\n",
        "        print(f\"Ini adalah bentuk: {self.nama}\")\n",
        "\n",
        "    def hitung_luas(self):\n",
        "        print(f\"Luas {self.nama} tidak dapat dihitung (generik).\")\n",
        "\n",
        "\n",
        "class PersegiPanjang(BentukGeometri):\n",
        "    def __init__(self, panjang, lebar):\n",
        "        super().__init__(\"Persegi Panjang\")\n",
        "        self.panjang = panjang\n",
        "        self.lebar = lebar\n",
        "\n",
        "    def hitung_luas(self):\n",
        "        luas = self.panjang * self.lebar\n",
        "        print(f\"Luas {self.nama}: {luas}\")\n",
        "\n",
        "\n",
        "class Segitiga(BentukGeometri):\n",
        "    def __init__(self, alas, tinggi):\n",
        "        super().__init__(\"Segitiga\")\n",
        "        self.alas = alas\n",
        "        self.tinggi = tinggi\n",
        "\n",
        "    def hitung_luas(self):\n",
        "        luas = 0.5 * self.alas * self.tinggi\n",
        "        print(f\"Luas {self.nama}: {luas}\")\n",
        "\n",
        "\n",
        "def proses_bentuk(bentuk):\n",
        "    print(f\"\\nMemproses objek: {type(bentuk)}\")\n",
        "\n",
        "    if isinstance(bentuk, BentukGeometri):\n",
        "        bentuk.tampilkan_nama()\n",
        "        print(\"Objek ini adalah instance dari BentukGeometri (atau turunannya).\")\n",
        "\n",
        "        if isinstance(bentuk, PersegiPanjang):\n",
        "            print(\"-> Objek ini juga instance dari PersegiPanjang.\")\n",
        "        elif isinstance(bentuk, Segitiga):\n",
        "            print(\"-> Objek ini juga instance dari Segitiga.\")\n",
        "    else:\n",
        "        print(\"Objek ini BUKAN instance dari BentukGeometri.\")\n",
        "\n",
        "    if isinstance(bentuk, str):\n",
        "        print(\"Objek ini adalah string.\")\n",
        "\n",
        "\n",
        "# --- Kode Utama ---\n",
        "if __name__ == \"__main__\":\n",
        "    pp = PersegiPanjang(4, 3)\n",
        "    seg = Segitiga(5, 2)\n",
        "    bg = BentukGeometri(\"Lingkaran\")  # Contoh lain\n",
        "    teks = \"Ini string\"\n",
        "\n",
        "    daftar_objek = [pp, seg, bg, teks]\n",
        "\n",
        "    for obj in daftar_objek:\n",
        "        proses_bentuk(obj)\n"
      ],
      "metadata": {
        "id": "Bf_uE93whhV7",
        "outputId": "3ba1e8cb-6669-4804-bf56-235cd3237cf2",
        "colab": {
          "base_uri": "https://localhost:8080/"
        }
      },
      "execution_count": 10,
      "outputs": [
        {
          "output_type": "stream",
          "name": "stdout",
          "text": [
            "\n",
            "Memproses objek: <class '__main__.PersegiPanjang'>\n",
            "Ini adalah bentuk: Persegi Panjang\n",
            "Objek ini adalah instance dari BentukGeometri (atau turunannya).\n",
            "-> Objek ini juga instance dari PersegiPanjang.\n",
            "\n",
            "Memproses objek: <class '__main__.Segitiga'>\n",
            "Ini adalah bentuk: Segitiga\n",
            "Objek ini adalah instance dari BentukGeometri (atau turunannya).\n",
            "-> Objek ini juga instance dari Segitiga.\n",
            "\n",
            "Memproses objek: <class '__main__.BentukGeometri'>\n",
            "Ini adalah bentuk: Lingkaran\n",
            "Objek ini adalah instance dari BentukGeometri (atau turunannya).\n",
            "\n",
            "Memproses objek: <class 'str'>\n",
            "Objek ini BUKAN instance dari BentukGeometri.\n",
            "Objek ini adalah string.\n"
          ]
        }
      ]
    },
    {
      "cell_type": "markdown",
      "source": [
        "## Latihan"
      ],
      "metadata": {
        "id": "pPMWm7dY91xQ"
      }
    },
    {
      "cell_type": "code",
      "source": [
        "class Mahasiswa:\n",
        "    def __init__(self, nama: str, nim: str, ipk: float):\n",
        "        self.nama = nama\n",
        "        self.nim = nim\n",
        "        self.ipk = ipk\n",
        "\n",
        "    def tampilkan_info(self):\n",
        "        print(f\"Nama: {self.nama}\")\n",
        "        print(f\"NIM: {self.nim}\")\n",
        "        print(f\"IPK: {self.ipk:.2f}\")\n",
        "\n",
        "    def hitung_predikat(self):\n",
        "        if self.ipk >= 3.5:\n",
        "            return \"Dengan Pujian\"\n",
        "        elif self.ipk >= 3.0:\n",
        "            return \"Sangat Memuaskan\"\n",
        "        elif self.ipk >= 2.5:\n",
        "            return \"Memuaskan\"\n",
        "        else:\n",
        "            return \"Cukup\"\n",
        "\n",
        "\n",
        "class MahasiswaSarjana(Mahasiswa):\n",
        "    def __init__(self, nama: str, nim: str, ipk: float, semester: int, sks_lulus: int):\n",
        "        super().__init__(nama, nim, ipk)\n",
        "        self.semester = semester\n",
        "        self.sks_lulus = sks_lulus\n",
        "\n",
        "    def tampilkan_info(self):\n",
        "        super().tampilkan_info()\n",
        "        print(f\"Semester: {self.semester}\")\n",
        "        print(f\"SKS Lulus: {self.sks_lulus}\")\n",
        "\n",
        "\n",
        "class MahasiswaMagister(Mahasiswa):\n",
        "    def __init__(self, nama: str, nim: str, ipk: float, judul_tesis: str, nama_pembimbing: str):\n",
        "        super().__init__(nama, nim, ipk)\n",
        "        self.judul_tesis = judul_tesis\n",
        "        self.nama_pembimbing = nama_pembimbing\n",
        "\n",
        "    def tampilkan_info(self):\n",
        "        super().tampilkan_info()\n",
        "        print(f\"Judul Tesis: {self.judul_tesis}\")\n",
        "        print(f\"Pembimbing: {self.nama_pembimbing}\")\n",
        "\n",
        "    def hitung_predikat(self):\n",
        "        if self.ipk >= 3.75:\n",
        "            return \"Dengan Pujian (Summa Cum Laude)\"\n",
        "        elif self.ipk >= 3.5:\n",
        "            return \"Dengan Pujian (Magna Cum Laude)\"\n",
        "        elif self.ipk >= 3.25:\n",
        "            return \"Dengan Pujian (Cum Laude)\"\n",
        "        elif self.ipk >= 3.0:\n",
        "            return \"Sangat Memuaskan\"\n",
        "        elif self.ipk >= 2.75:\n",
        "            return \"Memuaskan\"\n",
        "        else:\n",
        "            return \"Cukup\"\n",
        "\n",
        "\n",
        "if __name__ == \"__main__\":\n",
        "    print(\"=== Contoh Mahasiswa ===\")\n",
        "    mhs1 = Mahasiswa(\"Daniel Budianto\", \"123456789\", 3.75)\n",
        "    mhs1.tampilkan_info()\n",
        "    print(f\"Predikat: {mhs1.hitung_predikat()}\")\n",
        "\n",
        "    print(\"\\n=== Contoh Mahasiswa Sarjana ===\")\n",
        "    mhs_sarjana = MahasiswaSarjana(\"Syauqi Nichol\", \"987654321\", 3.2, 6, 120)\n",
        "    mhs_sarjana.tampilkan_info()\n",
        "    print(f\"Predikat: {mhs_sarjana.hitung_predikat()}\")\n",
        "\n",
        "    print(\"\\n=== Contoh Mahasiswa Magister ===\")\n",
        "    mhs_magister = MahasiswaMagister(\"Gerry Lineker\", \"M12345678\", 3.8,\n",
        "                                    \"Analisis Kinerja Sistem Terdistribusi\",\n",
        "                                    \"Prof. Dr. Ir. Bambang Sugiantoro\")\n",
        "    mhs_magister.tampilkan_info()\n",
        "    print(f\"Predikat: {mhs_magister.hitung_predikat()}\")"
      ],
      "metadata": {
        "id": "UaoSH1Ee2egy",
        "outputId": "8966ac7f-99df-464e-9498-e945135d7783",
        "colab": {
          "base_uri": "https://localhost:8080/"
        }
      },
      "execution_count": 11,
      "outputs": [
        {
          "output_type": "stream",
          "name": "stdout",
          "text": [
            "=== Contoh Mahasiswa ===\n",
            "Nama: Daniel Budianto\n",
            "NIM: 123456789\n",
            "IPK: 3.75\n",
            "Predikat: Dengan Pujian\n",
            "\n",
            "=== Contoh Mahasiswa Sarjana ===\n",
            "Nama: Syauqi Nichol\n",
            "NIM: 987654321\n",
            "IPK: 3.20\n",
            "Semester: 6\n",
            "SKS Lulus: 120\n",
            "Predikat: Sangat Memuaskan\n",
            "\n",
            "=== Contoh Mahasiswa Magister ===\n",
            "Nama: Gerry Lineker\n",
            "NIM: M12345678\n",
            "IPK: 3.80\n",
            "Judul Tesis: Analisis Kinerja Sistem Terdistribusi\n",
            "Pembimbing: Prof. Dr. Ir. Bambang Sugiantoro\n",
            "Predikat: Dengan Pujian (Summa Cum Laude)\n"
          ]
        }
      ]
    }
  ]
}